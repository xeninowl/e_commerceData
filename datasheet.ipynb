{
 "cells": [
  {
   "cell_type": "code",
   "execution_count": 8,
   "metadata": {},
   "outputs": [],
   "source": [
    "import pandas as pd\n",
    "import matplotlib.pyplot as plt\n",
    "import seaborn as sns\n",
    "import numpy as np"
   ]
  },
  {
   "cell_type": "code",
   "execution_count": 9,
   "metadata": {},
   "outputs": [],
   "source": [
    "dataset = pd.read_excel(\"Superstore_USA.xlsx\")"
   ]
  },
  {
   "cell_type": "code",
   "execution_count": 10,
   "metadata": {},
   "outputs": [
    {
     "data": {
      "text/html": [
       "<div>\n",
       "<style scoped>\n",
       "    .dataframe tbody tr th:only-of-type {\n",
       "        vertical-align: middle;\n",
       "    }\n",
       "\n",
       "    .dataframe tbody tr th {\n",
       "        vertical-align: top;\n",
       "    }\n",
       "\n",
       "    .dataframe thead th {\n",
       "        text-align: right;\n",
       "    }\n",
       "</style>\n",
       "<table border=\"1\" class=\"dataframe\">\n",
       "  <thead>\n",
       "    <tr style=\"text-align: right;\">\n",
       "      <th></th>\n",
       "      <th>Row ID</th>\n",
       "      <th>Order Priority</th>\n",
       "      <th>Discount</th>\n",
       "      <th>Unit Price</th>\n",
       "      <th>Shipping Cost</th>\n",
       "      <th>Customer ID</th>\n",
       "      <th>Customer Name</th>\n",
       "      <th>Ship Mode</th>\n",
       "      <th>Customer Segment</th>\n",
       "      <th>Product Category</th>\n",
       "      <th>...</th>\n",
       "      <th>Region</th>\n",
       "      <th>State or Province</th>\n",
       "      <th>City</th>\n",
       "      <th>Postal Code</th>\n",
       "      <th>Order Date</th>\n",
       "      <th>Ship Date</th>\n",
       "      <th>Profit</th>\n",
       "      <th>Quantity ordered new</th>\n",
       "      <th>Sales</th>\n",
       "      <th>Order ID</th>\n",
       "    </tr>\n",
       "  </thead>\n",
       "  <tbody>\n",
       "    <tr>\n",
       "      <th>0</th>\n",
       "      <td>18606</td>\n",
       "      <td>Not Specified</td>\n",
       "      <td>0.01</td>\n",
       "      <td>2.88</td>\n",
       "      <td>0.50</td>\n",
       "      <td>2</td>\n",
       "      <td>Janice Fletcher</td>\n",
       "      <td>Regular Air</td>\n",
       "      <td>Corporate</td>\n",
       "      <td>Office Supplies</td>\n",
       "      <td>...</td>\n",
       "      <td>Central</td>\n",
       "      <td>Illinois</td>\n",
       "      <td>Addison</td>\n",
       "      <td>60101</td>\n",
       "      <td>2012-05-28</td>\n",
       "      <td>2012-05-30</td>\n",
       "      <td>1.32</td>\n",
       "      <td>2</td>\n",
       "      <td>5.90</td>\n",
       "      <td>88525</td>\n",
       "    </tr>\n",
       "    <tr>\n",
       "      <th>1</th>\n",
       "      <td>20847</td>\n",
       "      <td>High</td>\n",
       "      <td>0.01</td>\n",
       "      <td>2.84</td>\n",
       "      <td>0.93</td>\n",
       "      <td>3</td>\n",
       "      <td>Bonnie Potter</td>\n",
       "      <td>Express Air</td>\n",
       "      <td>Corporate</td>\n",
       "      <td>Office Supplies</td>\n",
       "      <td>...</td>\n",
       "      <td>West</td>\n",
       "      <td>Washington</td>\n",
       "      <td>Anacortes</td>\n",
       "      <td>98221</td>\n",
       "      <td>2010-07-07</td>\n",
       "      <td>2010-07-08</td>\n",
       "      <td>4.56</td>\n",
       "      <td>4</td>\n",
       "      <td>13.01</td>\n",
       "      <td>88522</td>\n",
       "    </tr>\n",
       "    <tr>\n",
       "      <th>2</th>\n",
       "      <td>23086</td>\n",
       "      <td>Not Specified</td>\n",
       "      <td>0.03</td>\n",
       "      <td>6.68</td>\n",
       "      <td>6.15</td>\n",
       "      <td>3</td>\n",
       "      <td>Bonnie Potter</td>\n",
       "      <td>Express Air</td>\n",
       "      <td>Corporate</td>\n",
       "      <td>Office Supplies</td>\n",
       "      <td>...</td>\n",
       "      <td>West</td>\n",
       "      <td>Washington</td>\n",
       "      <td>Anacortes</td>\n",
       "      <td>98221</td>\n",
       "      <td>2011-07-27</td>\n",
       "      <td>2011-07-28</td>\n",
       "      <td>-47.64</td>\n",
       "      <td>7</td>\n",
       "      <td>49.92</td>\n",
       "      <td>88523</td>\n",
       "    </tr>\n",
       "  </tbody>\n",
       "</table>\n",
       "<p>3 rows × 24 columns</p>\n",
       "</div>"
      ],
      "text/plain": [
       "   Row ID Order Priority  Discount  Unit Price  Shipping Cost  Customer ID  \\\n",
       "0   18606  Not Specified      0.01        2.88           0.50            2   \n",
       "1   20847           High      0.01        2.84           0.93            3   \n",
       "2   23086  Not Specified      0.03        6.68           6.15            3   \n",
       "\n",
       "     Customer Name    Ship Mode Customer Segment Product Category  ...  \\\n",
       "0  Janice Fletcher  Regular Air        Corporate  Office Supplies  ...   \n",
       "1    Bonnie Potter  Express Air        Corporate  Office Supplies  ...   \n",
       "2    Bonnie Potter  Express Air        Corporate  Office Supplies  ...   \n",
       "\n",
       "    Region State or Province       City  Postal Code Order Date  Ship Date  \\\n",
       "0  Central          Illinois    Addison        60101 2012-05-28 2012-05-30   \n",
       "1     West        Washington  Anacortes        98221 2010-07-07 2010-07-08   \n",
       "2     West        Washington  Anacortes        98221 2011-07-27 2011-07-28   \n",
       "\n",
       "  Profit  Quantity ordered new  Sales Order ID  \n",
       "0   1.32                     2   5.90    88525  \n",
       "1   4.56                     4  13.01    88522  \n",
       "2 -47.64                     7  49.92    88523  \n",
       "\n",
       "[3 rows x 24 columns]"
      ]
     },
     "execution_count": 10,
     "metadata": {},
     "output_type": "execute_result"
    }
   ],
   "source": [
    "dataset.head(3)"
   ]
  },
  {
   "cell_type": "code",
   "execution_count": 11,
   "metadata": {},
   "outputs": [
    {
     "data": {
      "text/plain": [
       "(9426, 24)"
      ]
     },
     "execution_count": 11,
     "metadata": {},
     "output_type": "execute_result"
    }
   ],
   "source": [
    "dataset.shape"
   ]
  },
  {
   "cell_type": "code",
   "execution_count": 12,
   "metadata": {},
   "outputs": [
    {
     "data": {
      "text/html": [
       "<div>\n",
       "<style scoped>\n",
       "    .dataframe tbody tr th:only-of-type {\n",
       "        vertical-align: middle;\n",
       "    }\n",
       "\n",
       "    .dataframe tbody tr th {\n",
       "        vertical-align: top;\n",
       "    }\n",
       "\n",
       "    .dataframe thead th {\n",
       "        text-align: right;\n",
       "    }\n",
       "</style>\n",
       "<table border=\"1\" class=\"dataframe\">\n",
       "  <thead>\n",
       "    <tr style=\"text-align: right;\">\n",
       "      <th></th>\n",
       "      <th>Row ID</th>\n",
       "      <th>Order Priority</th>\n",
       "      <th>Discount</th>\n",
       "      <th>Unit Price</th>\n",
       "      <th>Shipping Cost</th>\n",
       "      <th>Customer ID</th>\n",
       "      <th>Customer Name</th>\n",
       "      <th>Ship Mode</th>\n",
       "      <th>Customer Segment</th>\n",
       "      <th>Product Category</th>\n",
       "      <th>...</th>\n",
       "      <th>Region</th>\n",
       "      <th>State or Province</th>\n",
       "      <th>City</th>\n",
       "      <th>Postal Code</th>\n",
       "      <th>Order Date</th>\n",
       "      <th>Ship Date</th>\n",
       "      <th>Profit</th>\n",
       "      <th>Quantity ordered new</th>\n",
       "      <th>Sales</th>\n",
       "      <th>Order ID</th>\n",
       "    </tr>\n",
       "  </thead>\n",
       "  <tbody>\n",
       "    <tr>\n",
       "      <th>0</th>\n",
       "      <td>False</td>\n",
       "      <td>False</td>\n",
       "      <td>False</td>\n",
       "      <td>False</td>\n",
       "      <td>False</td>\n",
       "      <td>False</td>\n",
       "      <td>False</td>\n",
       "      <td>False</td>\n",
       "      <td>False</td>\n",
       "      <td>False</td>\n",
       "      <td>...</td>\n",
       "      <td>False</td>\n",
       "      <td>False</td>\n",
       "      <td>False</td>\n",
       "      <td>False</td>\n",
       "      <td>False</td>\n",
       "      <td>False</td>\n",
       "      <td>False</td>\n",
       "      <td>False</td>\n",
       "      <td>False</td>\n",
       "      <td>False</td>\n",
       "    </tr>\n",
       "    <tr>\n",
       "      <th>1</th>\n",
       "      <td>False</td>\n",
       "      <td>False</td>\n",
       "      <td>False</td>\n",
       "      <td>False</td>\n",
       "      <td>False</td>\n",
       "      <td>False</td>\n",
       "      <td>False</td>\n",
       "      <td>False</td>\n",
       "      <td>False</td>\n",
       "      <td>False</td>\n",
       "      <td>...</td>\n",
       "      <td>False</td>\n",
       "      <td>False</td>\n",
       "      <td>False</td>\n",
       "      <td>False</td>\n",
       "      <td>False</td>\n",
       "      <td>False</td>\n",
       "      <td>False</td>\n",
       "      <td>False</td>\n",
       "      <td>False</td>\n",
       "      <td>False</td>\n",
       "    </tr>\n",
       "    <tr>\n",
       "      <th>2</th>\n",
       "      <td>False</td>\n",
       "      <td>False</td>\n",
       "      <td>False</td>\n",
       "      <td>False</td>\n",
       "      <td>False</td>\n",
       "      <td>False</td>\n",
       "      <td>False</td>\n",
       "      <td>False</td>\n",
       "      <td>False</td>\n",
       "      <td>False</td>\n",
       "      <td>...</td>\n",
       "      <td>False</td>\n",
       "      <td>False</td>\n",
       "      <td>False</td>\n",
       "      <td>False</td>\n",
       "      <td>False</td>\n",
       "      <td>False</td>\n",
       "      <td>False</td>\n",
       "      <td>False</td>\n",
       "      <td>False</td>\n",
       "      <td>False</td>\n",
       "    </tr>\n",
       "    <tr>\n",
       "      <th>3</th>\n",
       "      <td>False</td>\n",
       "      <td>False</td>\n",
       "      <td>False</td>\n",
       "      <td>False</td>\n",
       "      <td>False</td>\n",
       "      <td>False</td>\n",
       "      <td>False</td>\n",
       "      <td>False</td>\n",
       "      <td>False</td>\n",
       "      <td>False</td>\n",
       "      <td>...</td>\n",
       "      <td>False</td>\n",
       "      <td>False</td>\n",
       "      <td>False</td>\n",
       "      <td>False</td>\n",
       "      <td>False</td>\n",
       "      <td>False</td>\n",
       "      <td>False</td>\n",
       "      <td>False</td>\n",
       "      <td>False</td>\n",
       "      <td>False</td>\n",
       "    </tr>\n",
       "    <tr>\n",
       "      <th>4</th>\n",
       "      <td>False</td>\n",
       "      <td>False</td>\n",
       "      <td>False</td>\n",
       "      <td>False</td>\n",
       "      <td>False</td>\n",
       "      <td>False</td>\n",
       "      <td>False</td>\n",
       "      <td>False</td>\n",
       "      <td>False</td>\n",
       "      <td>False</td>\n",
       "      <td>...</td>\n",
       "      <td>False</td>\n",
       "      <td>False</td>\n",
       "      <td>False</td>\n",
       "      <td>False</td>\n",
       "      <td>False</td>\n",
       "      <td>False</td>\n",
       "      <td>False</td>\n",
       "      <td>False</td>\n",
       "      <td>False</td>\n",
       "      <td>False</td>\n",
       "    </tr>\n",
       "  </tbody>\n",
       "</table>\n",
       "<p>5 rows × 24 columns</p>\n",
       "</div>"
      ],
      "text/plain": [
       "   Row ID  Order Priority  Discount  Unit Price  Shipping Cost  Customer ID  \\\n",
       "0   False           False     False       False          False        False   \n",
       "1   False           False     False       False          False        False   \n",
       "2   False           False     False       False          False        False   \n",
       "3   False           False     False       False          False        False   \n",
       "4   False           False     False       False          False        False   \n",
       "\n",
       "   Customer Name  Ship Mode  Customer Segment  Product Category  ...  Region  \\\n",
       "0          False      False             False             False  ...   False   \n",
       "1          False      False             False             False  ...   False   \n",
       "2          False      False             False             False  ...   False   \n",
       "3          False      False             False             False  ...   False   \n",
       "4          False      False             False             False  ...   False   \n",
       "\n",
       "   State or Province   City  Postal Code  Order Date  Ship Date  Profit  \\\n",
       "0              False  False        False       False      False   False   \n",
       "1              False  False        False       False      False   False   \n",
       "2              False  False        False       False      False   False   \n",
       "3              False  False        False       False      False   False   \n",
       "4              False  False        False       False      False   False   \n",
       "\n",
       "   Quantity ordered new  Sales  Order ID  \n",
       "0                 False  False     False  \n",
       "1                 False  False     False  \n",
       "2                 False  False     False  \n",
       "3                 False  False     False  \n",
       "4                 False  False     False  \n",
       "\n",
       "[5 rows x 24 columns]"
      ]
     },
     "execution_count": 12,
     "metadata": {},
     "output_type": "execute_result"
    }
   ],
   "source": [
    "pd.isnull(dataset).head()"
   ]
  },
  {
   "cell_type": "code",
   "execution_count": 13,
   "metadata": {},
   "outputs": [
    {
     "data": {
      "text/plain": [
       "Row ID                   0\n",
       "Order Priority           0\n",
       "Discount                 0\n",
       "Unit Price               0\n",
       "Shipping Cost            0\n",
       "Customer ID              0\n",
       "Customer Name            0\n",
       "Ship Mode                0\n",
       "Customer Segment         0\n",
       "Product Category         0\n",
       "Product Sub-Category     0\n",
       "Product Container        0\n",
       "Product Name             0\n",
       "Product Base Margin     72\n",
       "Region                   0\n",
       "State or Province        0\n",
       "City                     0\n",
       "Postal Code              0\n",
       "Order Date               0\n",
       "Ship Date                0\n",
       "Profit                   0\n",
       "Quantity ordered new     0\n",
       "Sales                    0\n",
       "Order ID                 0\n",
       "dtype: int64"
      ]
     },
     "execution_count": 13,
     "metadata": {},
     "output_type": "execute_result"
    }
   ],
   "source": [
    "dataset.isnull().sum()"
   ]
  },
  {
   "cell_type": "code",
   "execution_count": 15,
   "metadata": {},
   "outputs": [],
   "source": [
    "dataset['Product Base Margin'].fillna(dataset['Product Base Margin'].mean(),inplace=True)"
   ]
  },
  {
   "cell_type": "code",
   "execution_count": 16,
   "metadata": {},
   "outputs": [
    {
     "data": {
      "text/plain": [
       "Row ID                  0\n",
       "Order Priority          0\n",
       "Discount                0\n",
       "Unit Price              0\n",
       "Shipping Cost           0\n",
       "Customer ID             0\n",
       "Customer Name           0\n",
       "Ship Mode               0\n",
       "Customer Segment        0\n",
       "Product Category        0\n",
       "Product Sub-Category    0\n",
       "Product Container       0\n",
       "Product Name            0\n",
       "Product Base Margin     0\n",
       "Region                  0\n",
       "State or Province       0\n",
       "City                    0\n",
       "Postal Code             0\n",
       "Order Date              0\n",
       "Ship Date               0\n",
       "Profit                  0\n",
       "Quantity ordered new    0\n",
       "Sales                   0\n",
       "Order ID                0\n",
       "dtype: int64"
      ]
     },
     "execution_count": 16,
     "metadata": {},
     "output_type": "execute_result"
    }
   ],
   "source": [
    "dataset.isnull().sum()"
   ]
  },
  {
   "cell_type": "markdown",
   "metadata": {},
   "source": [
    "# ORDER PRIORITY"
   ]
  },
  {
   "cell_type": "code",
   "execution_count": null,
   "metadata": {},
   "outputs": [],
   "source": []
  },
  {
   "cell_type": "code",
   "execution_count": null,
   "metadata": {},
   "outputs": [],
   "source": []
  },
  {
   "cell_type": "code",
   "execution_count": 17,
   "metadata": {},
   "outputs": [
    {
     "data": {
      "text/plain": [
       "High             1970\n",
       "Low              1926\n",
       "Not Specified    1881\n",
       "Medium           1844\n",
       "Critical         1804\n",
       "Critical            1\n",
       "Name: Order Priority, dtype: int64"
      ]
     },
     "execution_count": 17,
     "metadata": {},
     "output_type": "execute_result"
    }
   ],
   "source": [
    "dataset['Order Priority'].value_counts()"
   ]
  },
  {
   "cell_type": "code",
   "execution_count": 18,
   "metadata": {},
   "outputs": [
    {
     "data": {
      "text/plain": [
       "array(['Not Specified', 'High', 'Medium', 'Low', 'Critical', 'Critical '],\n",
       "      dtype=object)"
      ]
     },
     "execution_count": 18,
     "metadata": {},
     "output_type": "execute_result"
    }
   ],
   "source": [
    "dataset['Order Priority'].unique()"
   ]
  },
  {
   "cell_type": "code",
   "execution_count": 19,
   "metadata": {},
   "outputs": [
    {
     "data": {
      "text/plain": [
       "0       Not Specified\n",
       "1                High\n",
       "2       Not Specified\n",
       "3       Not Specified\n",
       "4       Not Specified\n",
       "            ...      \n",
       "9421         Critical\n",
       "9422         Critical\n",
       "9423    Not Specified\n",
       "9424             High\n",
       "9425    Not Specified\n",
       "Name: Order Priority, Length: 9426, dtype: object"
      ]
     },
     "execution_count": 19,
     "metadata": {},
     "output_type": "execute_result"
    }
   ],
   "source": [
    "dataset['Order Priority'].replace(\"Critical \",\"Critical\")"
   ]
  },
  {
   "cell_type": "code",
   "execution_count": 27,
   "metadata": {},
   "outputs": [
    {
     "data": {
      "text/plain": [
       "<function matplotlib.pyplot.show(close=None, block=None)>"
      ]
     },
     "execution_count": 27,
     "metadata": {},
     "output_type": "execute_result"
    },
    {
     "data": {
      "image/png": "[encoded data removed]",
      "text/plain": [
       "<Figure size 600x400 with 1 Axes>"
      ]
     },
     "metadata": {},
     "output_type": "display_data"
    }
   ],
   "source": [
    "plt.figure(figsize=(6,4))\n",
    "sns.countplot(x=\"Order Priority\",data=dataset)\n",
    "plt.title(\"Count of Order Priorit\")\n",
    "plt.savefig(\"Count of Order Priority.jpg\")\n",
    "plt.show"
   ]
  },
  {
   "cell_type": "markdown",
   "metadata": {},
   "source": [
    "# Ship Mode"
   ]
  },
  {
   "cell_type": "code",
   "execution_count": 28,
   "metadata": {},
   "outputs": [
    {
     "data": {
      "text/plain": [
       "Regular Air       7036\n",
       "Delivery Truck    1283\n",
       "Express Air       1107\n",
       "Name: Ship Mode, dtype: int64"
      ]
     },
     "execution_count": 28,
     "metadata": {},
     "output_type": "execute_result"
    }
   ],
   "source": [
    "dataset['Ship Mode'].value_counts()"
   ]
  },
  {
   "cell_type": "code",
   "execution_count": 34,
   "metadata": {},
   "outputs": [],
   "source": [
    " x = dataset['Ship Mode'].value_counts().index\n",
    "y = dataset['Ship Mode'].value_counts().values"
   ]
  },
  {
   "cell_type": "code",
   "execution_count": 35,
   "metadata": {},
   "outputs": [
    {
     "data": {
      "image/png": "[encoded data removed]",
      "text/plain": [
       "<Figure size 640x480 with 1 Axes>"
      ]
     },
     "metadata": {},
     "output_type": "display_data"
    }
   ],
   "source": [
    "plt.pie(y)\n",
    "plt.show()"
   ]
  },
  {
   "cell_type": "markdown",
   "metadata": {},
   "source": []
  }
 ],
 "metadata": {
  "kernelspec": {
   "display_name": "Python 3",
   "language": "python",
   "name": "python3"
  },
  "language_info": {
   "codemirror_mode": {
    "name": "ipython",
    "version": 3
   },
   "file_extension": ".py",
   "mimetype": "text/x-python",
   "name": "python",
   "nbconvert_exporter": "python",
   "pygments_lexer": "ipython3",
   "version": "3.11.6"
  }
 },
 "nbformat": 4,
 "nbformat_minor": 2
}
